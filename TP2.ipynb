{
 "cells": [
  {
   "cell_type": "markdown",
   "metadata": {},
   "source": [
    "# Visualización de datos\n",
    "MiM+Analytics - Universidad Torcuato Di Tella\n",
    "\n",
    "### Análisis exploratorio"
   ]
  },
  {
   "cell_type": "code",
   "execution_count": 1,
   "metadata": {},
   "outputs": [],
   "source": [
    "# Lectura de datos \n",
    "\n",
    "import pandas as pd\n",
    "from sklearn.model_selection import train_test_split\n",
    "\n",
    "data = pd.read_csv(\"data/adult.csv\")\n",
    "\n",
    "def get_train_set(data, target_column):\n",
    "    X_train, _, y_train, _ = train_test_split(data.drop(columns = target_column), data[target_column], test_size=0.33, random_state=42)\n",
    "    X_train[\"target\"] = y_train\n",
    "    return X_train\n",
    "\n",
    "df_train = get_train_set(data, \"income\")"
   ]
  },
  {
   "cell_type": "code",
   "execution_count": 2,
   "metadata": {},
   "outputs": [
    {
     "data": {
      "text/html": [
       "<div>\n",
       "<style scoped>\n",
       "    .dataframe tbody tr th:only-of-type {\n",
       "        vertical-align: middle;\n",
       "    }\n",
       "\n",
       "    .dataframe tbody tr th {\n",
       "        vertical-align: top;\n",
       "    }\n",
       "\n",
       "    .dataframe thead th {\n",
       "        text-align: right;\n",
       "    }\n",
       "</style>\n",
       "<table border=\"1\" class=\"dataframe\">\n",
       "  <thead>\n",
       "    <tr style=\"text-align: right;\">\n",
       "      <th></th>\n",
       "      <th>age</th>\n",
       "      <th>workclass</th>\n",
       "      <th>fnlwgt</th>\n",
       "      <th>education</th>\n",
       "      <th>education.num</th>\n",
       "      <th>marital.status</th>\n",
       "      <th>occupation</th>\n",
       "      <th>relationship</th>\n",
       "      <th>race</th>\n",
       "      <th>sex</th>\n",
       "      <th>capital.gain</th>\n",
       "      <th>capital.loss</th>\n",
       "      <th>hours.per.week</th>\n",
       "      <th>native.country</th>\n",
       "      <th>target</th>\n",
       "    </tr>\n",
       "  </thead>\n",
       "  <tbody>\n",
       "    <tr>\n",
       "      <th>27585</th>\n",
       "      <td>39</td>\n",
       "      <td>Private</td>\n",
       "      <td>160623</td>\n",
       "      <td>Assoc-acdm</td>\n",
       "      <td>12</td>\n",
       "      <td>Never-married</td>\n",
       "      <td>Craft-repair</td>\n",
       "      <td>Own-child</td>\n",
       "      <td>White</td>\n",
       "      <td>Male</td>\n",
       "      <td>0</td>\n",
       "      <td>0</td>\n",
       "      <td>40</td>\n",
       "      <td>United-States</td>\n",
       "      <td>&lt;=50K</td>\n",
       "    </tr>\n",
       "    <tr>\n",
       "      <th>18010</th>\n",
       "      <td>44</td>\n",
       "      <td>Private</td>\n",
       "      <td>92649</td>\n",
       "      <td>HS-grad</td>\n",
       "      <td>9</td>\n",
       "      <td>Married-civ-spouse</td>\n",
       "      <td>Craft-repair</td>\n",
       "      <td>Wife</td>\n",
       "      <td>White</td>\n",
       "      <td>Female</td>\n",
       "      <td>0</td>\n",
       "      <td>0</td>\n",
       "      <td>40</td>\n",
       "      <td>United-States</td>\n",
       "      <td>&gt;50K</td>\n",
       "    </tr>\n",
       "    <tr>\n",
       "      <th>22472</th>\n",
       "      <td>52</td>\n",
       "      <td>Private</td>\n",
       "      <td>72743</td>\n",
       "      <td>HS-grad</td>\n",
       "      <td>9</td>\n",
       "      <td>Married-spouse-absent</td>\n",
       "      <td>Adm-clerical</td>\n",
       "      <td>Not-in-family</td>\n",
       "      <td>White</td>\n",
       "      <td>Female</td>\n",
       "      <td>0</td>\n",
       "      <td>0</td>\n",
       "      <td>50</td>\n",
       "      <td>United-States</td>\n",
       "      <td>&lt;=50K</td>\n",
       "    </tr>\n",
       "    <tr>\n",
       "      <th>4585</th>\n",
       "      <td>33</td>\n",
       "      <td>Private</td>\n",
       "      <td>118500</td>\n",
       "      <td>Some-college</td>\n",
       "      <td>10</td>\n",
       "      <td>Divorced</td>\n",
       "      <td>Exec-managerial</td>\n",
       "      <td>Unmarried</td>\n",
       "      <td>White</td>\n",
       "      <td>Female</td>\n",
       "      <td>0</td>\n",
       "      <td>0</td>\n",
       "      <td>40</td>\n",
       "      <td>United-States</td>\n",
       "      <td>&lt;=50K</td>\n",
       "    </tr>\n",
       "    <tr>\n",
       "      <th>11191</th>\n",
       "      <td>45</td>\n",
       "      <td>Private</td>\n",
       "      <td>189802</td>\n",
       "      <td>Some-college</td>\n",
       "      <td>10</td>\n",
       "      <td>Divorced</td>\n",
       "      <td>Adm-clerical</td>\n",
       "      <td>Not-in-family</td>\n",
       "      <td>White</td>\n",
       "      <td>Female</td>\n",
       "      <td>0</td>\n",
       "      <td>0</td>\n",
       "      <td>40</td>\n",
       "      <td>United-States</td>\n",
       "      <td>&lt;=50K</td>\n",
       "    </tr>\n",
       "  </tbody>\n",
       "</table>\n",
       "</div>"
      ],
      "text/plain": [
       "       age workclass  fnlwgt     education  education.num  \\\n",
       "27585   39   Private  160623    Assoc-acdm             12   \n",
       "18010   44   Private   92649       HS-grad              9   \n",
       "22472   52   Private   72743       HS-grad              9   \n",
       "4585    33   Private  118500  Some-college             10   \n",
       "11191   45   Private  189802  Some-college             10   \n",
       "\n",
       "              marital.status       occupation   relationship   race     sex  \\\n",
       "27585          Never-married     Craft-repair      Own-child  White    Male   \n",
       "18010     Married-civ-spouse     Craft-repair           Wife  White  Female   \n",
       "22472  Married-spouse-absent     Adm-clerical  Not-in-family  White  Female   \n",
       "4585                Divorced  Exec-managerial      Unmarried  White  Female   \n",
       "11191               Divorced     Adm-clerical  Not-in-family  White  Female   \n",
       "\n",
       "       capital.gain  capital.loss  hours.per.week native.country target  \n",
       "27585             0             0              40  United-States  <=50K  \n",
       "18010             0             0              40  United-States   >50K  \n",
       "22472             0             0              50  United-States  <=50K  \n",
       "4585              0             0              40  United-States  <=50K  \n",
       "11191             0             0              40  United-States  <=50K  "
      ]
     },
     "execution_count": 2,
     "metadata": {},
     "output_type": "execute_result"
    }
   ],
   "source": [
    "df_train.head()"
   ]
  },
  {
   "cell_type": "markdown",
   "metadata": {},
   "source": [
    "### Entrenamiento del modelo"
   ]
  },
  {
   "cell_type": "code",
   "execution_count": 3,
   "metadata": {},
   "outputs": [
    {
     "data": {
      "text/plain": [
       "0.8574353247720082"
      ]
     },
     "execution_count": 3,
     "metadata": {},
     "output_type": "execute_result"
    }
   ],
   "source": [
    "# feature enginnering\n",
    "\n",
    "def one_hot_encoding(column, column_name):\n",
    "    df = pd.DataFrame(columns = [f\"{column_name}_{col}\" for col in column.unique()], index = column.index)\n",
    "    for col in column.unique():\n",
    "        df.loc[column == col, f\"{column_name}_{col}\"] = 1\n",
    "    return df.fillna(0)\n",
    "\n",
    "data.workclass.replace(\"?\", \"unknow\", inplace = True)\n",
    "data = data.drop(columns = \"workclass\").join(one_hot_encoding(data.workclass, \"workclass\"))\n",
    "data = data.drop(columns = \"marital.status\").join(one_hot_encoding(data[\"marital.status\"], \"marital_status\"))\n",
    "data = data.drop(columns = \"relationship\").join(one_hot_encoding(data.relationship, \"relationship\"))\n",
    "data.occupation.replace(\"?\", \"unknow\", inplace = True)\n",
    "data = data.drop(columns = \"occupation\").join(one_hot_encoding(data.occupation, \"ocuppation\"))\n",
    "data = data.drop(columns = \"race\").join(one_hot_encoding(data.race, \"race\"))\n",
    "data = data.drop(columns = \"sex\").join(one_hot_encoding(data.sex, \"sex\"))\n",
    "data[\"native_usa\"] = (data[\"native.country\"] == \"United-States\").astype(int)\n",
    "data[\"target\"] = (data[\"income\"] == \">50K\").astype(int)\n",
    "data.drop(columns = [\"native.country\", \"education\", \"income\"], inplace = True)\n",
    "\n",
    "data.rename(columns = {\"education.num\":\"education\", \"capital.gain\":\"capital_gain\", \"capital.loss\":\"capital_loss\", \"hours.per.week\":\"hours_per_week\"}, inplace = True)\n",
    "\n",
    "# Train-Test split\n",
    "\n",
    "X_train, X_test, y_train, y_test = train_test_split(data.drop(columns = \"target\"), data.target, test_size=0.33, random_state=42)\n",
    "\n",
    "# Train model\n",
    "\n",
    "from sklearn.ensemble import GradientBoostingClassifier\n",
    "clf = GradientBoostingClassifier(n_estimators=100, learning_rate=1.0, max_depth=1, random_state=0).fit(X_train, y_train)\n",
    "clf.score(X_test, y_test)"
   ]
  },
  {
   "cell_type": "markdown",
   "metadata": {},
   "source": [
    "### Diagnostico del modelo"
   ]
  },
  {
   "cell_type": "code",
   "execution_count": 21,
   "metadata": {},
   "outputs": [
    {
     "data": {
      "image/png": "[encoded data removed]",
      "text/plain": [
       "<Figure size 432x288 with 1 Axes>"
      ]
     },
     "metadata": {
      "needs_background": "light"
     },
     "output_type": "display_data"
    }
   ],
   "source": [
    "import scikitplot as skplt\n",
    "import matplotlib.pyplot as plt\n",
    "skplt.estimators.plot_learning_curve(clf, X_train, y_train, scoring = \"roc_auc\")\n",
    "plt.title (\"Learning Curve - ROC AUC\")\n",
    "plt.show()"
   ]
  },
  {
   "cell_type": "code",
   "execution_count": 22,
   "metadata": {},
   "outputs": [
    {
     "data": {
      "text/plain": [
       "<AxesSubplot:title={'center':'Normalized Confusion Matrix'}, xlabel='Predicted label', ylabel='True label'>"
      ]
     },
     "execution_count": 22,
     "metadata": {},
     "output_type": "execute_result"
    },
    {
     "data": {
      "image/png": "[encoded data removed]",
      "text/plain": [
       "<Figure size 432x288 with 2 Axes>"
      ]
     },
     "metadata": {
      "needs_background": "light"
     },
     "output_type": "display_data"
    }
   ],
   "source": [
    "skplt.metrics.plot_confusion_matrix(y_test, clf.predict(X_test), normalize=True)"
   ]
  },
  {
   "cell_type": "markdown",
   "metadata": {},
   "source": [
    "### Importancia de variables"
   ]
  },
  {
   "cell_type": "code",
   "execution_count": 12,
   "metadata": {},
   "outputs": [
    {
     "data": {
      "text/html": [
       "<div>\n",
       "<style scoped>\n",
       "    .dataframe tbody tr th:only-of-type {\n",
       "        vertical-align: middle;\n",
       "    }\n",
       "\n",
       "    .dataframe tbody tr th {\n",
       "        vertical-align: top;\n",
       "    }\n",
       "\n",
       "    .dataframe thead th {\n",
       "        text-align: right;\n",
       "    }\n",
       "</style>\n",
       "<table border=\"1\" class=\"dataframe\">\n",
       "  <thead>\n",
       "    <tr style=\"text-align: right;\">\n",
       "      <th></th>\n",
       "      <th>importance</th>\n",
       "    </tr>\n",
       "  </thead>\n",
       "  <tbody>\n",
       "    <tr>\n",
       "      <th>marital_status_Married-civ-spouse</th>\n",
       "      <td>0.399843</td>\n",
       "    </tr>\n",
       "    <tr>\n",
       "      <th>capital_gain</th>\n",
       "      <td>0.195824</td>\n",
       "    </tr>\n",
       "    <tr>\n",
       "      <th>marital_status_Married-AF-spouse</th>\n",
       "      <td>0.140693</td>\n",
       "    </tr>\n",
       "    <tr>\n",
       "      <th>edication</th>\n",
       "      <td>0.131774</td>\n",
       "    </tr>\n",
       "    <tr>\n",
       "      <th>capital_loss</th>\n",
       "      <td>0.045259</td>\n",
       "    </tr>\n",
       "  </tbody>\n",
       "</table>\n",
       "</div>"
      ],
      "text/plain": [
       "                                   importance\n",
       "marital_status_Married-civ-spouse    0.399843\n",
       "capital_gain                         0.195824\n",
       "marital_status_Married-AF-spouse     0.140693\n",
       "edication                            0.131774\n",
       "capital_loss                         0.045259"
      ]
     },
     "execution_count": 12,
     "metadata": {},
     "output_type": "execute_result"
    }
   ],
   "source": [
    "pd.DataFrame({\"importance\": clf.feature_importances_}, index = X_train.columns).sort_values(by = \"importance\", ascending = False).head()"
   ]
  },
  {
   "cell_type": "code",
   "execution_count": 16,
   "metadata": {},
   "outputs": [
    {
     "data": {
      "image/png": "[encoded data removed]",
      "text/plain": [
       "<Figure size 432x288 with 1 Axes>"
      ]
     },
     "metadata": {
      "needs_background": "light"
     },
     "output_type": "display_data"
    }
   ],
   "source": [
    "skplt.estimators.plot_feature_importances(clf, feature_names=X_train.columns, max_num_features = 5)\n",
    "plt.xticks(rotation='vertical')\n",
    "plt.show()"
   ]
  },
  {
   "cell_type": "code",
   "execution_count": null,
   "metadata": {},
   "outputs": [],
   "source": []
  }
 ],
 "metadata": {
  "kernelspec": {
   "display_name": "Python 3",
   "language": "python",
   "name": "python3"
  },
  "language_info": {
   "codemirror_mode": {
    "name": "ipython",
    "version": 3
   },
   "file_extension": ".py",
   "mimetype": "text/x-python",
   "name": "python",
   "nbconvert_exporter": "python",
   "pygments_lexer": "ipython3",
   "version": "3.8.5"
  }
 },
 "nbformat": 4,
 "nbformat_minor": 4
}
